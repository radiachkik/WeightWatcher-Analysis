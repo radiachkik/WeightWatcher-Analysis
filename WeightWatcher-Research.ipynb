{
 "cells": [
  {
   "cell_type": "code",
   "execution_count": 4,
   "metadata": {},
   "outputs": [
    {
     "data": {
      "application/javascript": "IPython.notebook.set_autosave_interval(0)"
     },
     "metadata": {},
     "output_type": "display_data"
    },
    {
     "name": "stdout",
     "output_type": "stream",
     "text": [
      "Autosave disabled\n"
     ]
    }
   ],
   "source": [
    "import os\n",
    "\n",
    "os.environ['CUDA_VISIBLE_DEVICES'] = '-1'\n",
    "%autosave 0"
   ]
  },
  {
   "cell_type": "markdown",
   "metadata": {},
   "source": [
    "# WeightWatcher Forschung\n",
    "\n",
    "> WeightWatcher (w|w) is an open-source, diagnostic tool for analyzing Deep Neural Networks (DNN),\n",
    "> without needing access to training or even test data. It is based on theoretical research into\n",
    "> Why Deep Learning Works, based on our Theory of Heavy-Tailed Self-Regularization (HT-SR)... <sup>[1]</sup>\n",
    "\n",
    "## Hintergrund\n",
    "\n",
    "Beim Evaluieren der Qualität eines DNN gibt es mehrere Ansätze. Ein sehr verbreiteter Ansatz\n",
    "ist das Auswerten der von dem Netzwerk, oft auch *Modell* genannt, vorhersagten Ergebnisse.\n",
    "Die Ergebnisse werden dabei anhand einer für das Aufgabenfeld des Modells typischen\n",
    "Metrik bewertet. Dieser Ansatz birgt jedoch einige Probleme, wie beispielweise die dafür\n",
    "benötigten Ressourcen und die aussagekraft in Bezug auf den Grad der Generalisierung eines\n",
    "Modells.\n",
    "\n",
    "Als Alternative zu diesem Ansatz bieten sich statische Analyseverfahren an. Diese werden verwendet,\n",
    "um die Parameter der Modelle zu untersuchen, anstatt der von den Modellen erzielten Ergebnisse.\n",
    "Für die Bewertung der Parameter müssen jedoch andere, teilweise auch weniger intuitive, Metriken\n",
    "verwendet werden.\n",
    "\n",
    "An dieser Stelle kommt das sogenannte *WeightWatcher* Tool **WeightWatcher** zum Einsatz.\n",
    "Mit diesem werden *Convolutional Layers* und *Fully-connected Layers* auf ihre\n",
    "Generalisierungsfähigkeit untersucht. Im Grunde werden dabei die Eigenwerte der Gewichtsmatrizen\n",
    "der Layer mit Modellen der *Random Matrix Theory* und anderen Bereichen der mathematischen Physik\n",
    "analysiert. Die dabei entwickelte Metriken wird **Alpha $\\alpha$** genant. Mithilfe dieser lassen\n",
    "sich Aussagen über neurale Netzwerke treffen, die in Zusammenhang mit der Generalisierungsfähigkeit\n",
    "stehen. Beispiele dafür finden sich auf der offiziellen Webseite des Tools.<sup>[1]</sup>\n",
    "\n",
    "## Zielstellung\n",
    "\n",
    "*WeightWatcher* hat aber auch gewisse Einschränkungen. Zunächst einmal sind die auf den Eigenwerten\n",
    "von Matrizen beruhenden Berechnung bei größeren Matrizen aussagekräftiger. Daher funktioniert das Tool\n",
    "bei sehr großen Layer mit vielen Gewichten und großen Gewichtsmatrizen am besten. Außerdem ist der\n",
    "Verwendung von WeightWatcher aufgefallen, dass es einige Architekturen von neuronalen Netzwerken gibt,\n",
    "bei denen die relevanten Metriken nicht oder sogar negativ mit Alpha korrelieren.\n",
    "Aus diesem Grund wird die Forschungsfrage \"Welchen Einfluss hat die Architektur eines neuronalen\n",
    "Netzwerks auf die Korrelation von Alpha Werten und Qualitätsmetriken?\" formuliert. Die bei der\n",
    "Beantwortung der Forschungsfrage gewonnen Erkenntnisse werden im Folgenden präsentiert.\n",
    "\n",
    "Das Ziel dieser Forschung ist die Beantwortung der Forschungsfrage: \"Inwiefern beeinflusst die\n",
    "Architektur eines neuronalen Netzwerks die Aussagekraft des Alpha-Werts?\"\n",
    "1. How well does the WeightWatcher metric \"alpha\" work when comparing\n",
    "    - different variants of different architecture?\n",
    "    - different variants of the same architecture?\n",
    "    - differently trained models of the same variant and architecture?\n",
    "2. What are reasonable explanations for those observations?"
   ]
  },
  {
   "cell_type": "markdown",
   "metadata": {},
   "source": [
    "## Datenerhebung\n",
    "\n",
    "### Keras Model API\n",
    "\n",
    "### Pytorch Image Models (timm)\n",
    "\n",
    "### Ergebnisse der Entwickler von WeightWatcher"
   ]
  },
  {
   "cell_type": "code",
   "execution_count": 5,
   "metadata": {},
   "outputs": [],
   "source": [
    "from weight_watcher import WeightWatcherResultService\n",
    "\n",
    "keras_result_repository = WeightWatcherResultService('results')\n",
    "keras_results = keras_result_repository.load_all()"
   ]
  },
  {
   "cell_type": "markdown",
   "source": [
    "**TODO**:\n",
    "* Datenerhebung durch Pytorch Image Models (timm)\n",
    "* Datenerhebung durch die Ergebnisse der Entwickler von WeightWatcher"
   ],
   "metadata": {
    "collapsed": false
   }
  },
  {
   "cell_type": "markdown",
   "source": [
    "## Visualisierung"
   ],
   "metadata": {
    "collapsed": false
   }
  },
  {
   "cell_type": "code",
   "execution_count": 6,
   "metadata": {},
   "outputs": [
    {
     "name": "stdout",
     "output_type": "stream",
     "text": [
      "Dash app running on http://127.0.0.1:8050/\n"
     ]
    }
   ],
   "source": [
    "from visualization import PlottingService, DashboardService\n",
    "\n",
    "from typing import List\n",
    "import plotly.graph_objects as go\n",
    "\n",
    "plotting_service = PlottingService()\n",
    "dashboard_service = DashboardService()\n",
    "\n",
    "plots: List[go.Figure] = []\n",
    "plots += [plotting_service.create_summaries_figure(keras_results, group_by_variant=False)]\n",
    "plots += plotting_service.create_summaries_per_architecture_figures(keras_results)\n",
    "plots += [plotting_service.create_details_figure(keras_results, group_by_architecture=True, group_by_variant=False)]\n",
    "plots += plotting_service.create_details_per_architecture_figures(keras_results)\n",
    "plots += plotting_service.create_details_per_model_figures(keras_results)\n",
    "\n",
    "dashboard_service.build_dashboard(plots)\n",
    "dashboard_service.show_dashboard(True)"
   ]
  },
  {
   "cell_type": "markdown",
   "source": [
    "**TODO:**\n",
    "* Visualisierung der Architekturen?"
   ],
   "metadata": {
    "collapsed": false
   }
  },
  {
   "cell_type": "markdown",
   "source": [
    "## Diskussion"
   ],
   "metadata": {
    "collapsed": false
   }
  },
  {
   "cell_type": "markdown",
   "metadata": {},
   "source": [
    "## Quellen\n",
    "\n",
    "[1]: <cite>[WeightWatcher Homepage](https://weightwatcher.ai/#Research)</cite>"
   ]
  }
 ],
 "metadata": {
  "kernelspec": {
   "display_name": "Python 3 (ipykernel)",
   "language": "python",
   "name": "python3"
  },
  "language_info": {
   "codemirror_mode": {
    "name": "ipython",
    "version": 3
   },
   "file_extension": ".py",
   "mimetype": "text/x-python",
   "name": "python",
   "nbconvert_exporter": "python",
   "pygments_lexer": "ipython3",
   "version": "3.8.10"
  }
 },
 "nbformat": 4,
 "nbformat_minor": 1
}
