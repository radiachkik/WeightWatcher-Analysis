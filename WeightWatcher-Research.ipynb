{
 "cells": [
  {
   "cell_type": "code",
   "execution_count": null,
   "metadata": {},
   "outputs": [],
   "source": [
    "import os\n",
    "\n",
    "os.environ['CUDA_VISIBLE_DEVICES'] = '-1'\n",
    "%autosave 0"
   ]
  },
  {
   "cell_type": "markdown",
   "metadata": {},
   "source": [
    "# WeightWatcher Research\n",
    "\n",
    "> WeightWatcher (w|w) is an open-source, diagnostic tool for analyzing Deep Neural Networks (DNN),\n",
    "> without needing access to training or even test data. It is based on theoretical research into\n",
    "> Why Deep Learning Works, based on our Theory of Heavy-Tailed Self-Regularization (HT-SR)... <sup>[1]</sup>\n",
    "\n",
    "## Objectives\n",
    "\n",
    "1. How well does the WeightWatcher metric \"alpha\" work when comparing\n",
    "    - different variants of different architecture?\n",
    "    - different variants of the same architecture?\n",
    "    - differently trained models of the same variant and architecture?\n",
    "2. What are reasonable explanations for those observations?\n",
    "\n",
    "## Background\n",
    "\n",
    "The main contribution of the WeightWatcher tool is the unique metric \"alpha\".\n",
    "It is..."
   ]
  },
  {
   "cell_type": "markdown",
   "metadata": {},
   "source": [
    "## Analysis\n",
    "\n",
    "### Internal services\n",
    "\n",
    "First off, instantiate some internal services.\n",
    "- `WeightWatcherService`: Simple wrapper for the functionality provided by the actual `weightwatcher` module\n",
    "- `WeightWatcherResultService`: Responsible for storing and loading WeightWatcher results\n",
    "- `AnalysisService`: Functionality for further analysis of the WeightWatcher results"
   ]
  },
  {
   "cell_type": "code",
   "execution_count": null,
   "metadata": {},
   "outputs": [],
   "source": [
    "# Instantiate necessary services\n",
    "\n",
    "from weight_watcher import WeightWatcherResultService\n",
    "from visualization import PlottingService, DashboardService\n",
    "\n",
    "plotting_service = PlottingService()\n",
    "dashboard_service = DashboardService()\n",
    "analysis_result_repository = WeightWatcherResultService('results')"
   ]
  },
  {
   "cell_type": "code",
   "execution_count": null,
   "metadata": {},
   "outputs": [],
   "source": [
    "# Create plots\n",
    "\n",
    "from typing import List\n",
    "import plotly.graph_objects as go\n",
    "\n",
    "results = analysis_result_repository.load_all()\n",
    "\n",
    "plots: List[go.Figure] = []\n",
    "plots += [plotting_service.create_summaries_figure(results, group_by_variant=False)]\n",
    "plots += plotting_service.create_summaries_per_architecture_figures(results)\n",
    "plots += [plotting_service.create_details_figure(results, group_by_architecture=True, group_by_variant=False)]\n",
    "plots += plotting_service.create_details_per_architecture_figures(results)\n",
    "plots += plotting_service.create_details_per_model_figures(results)\n",
    "\n",
    "dashboard_service.build_dashboard(plots)\n",
    "dashboard_service.show_dashboard(True)"
   ]
  },
  {
   "cell_type": "markdown",
   "metadata": {},
   "source": [
    "## References\n",
    "\n",
    "[1]: <cite>[WeightWatcher Homepage](https://weightwatcher.ai/#Research)</cite>\n",
    "[2]: <cite>[WeightWatcher Homepage](https://weightwatcher.ai/#Research)</cite>"
   ]
  }
 ],
 "metadata": {
  "kernelspec": {
   "display_name": "Python 3 (ipykernel)",
   "language": "python",
   "name": "python3"
  },
  "language_info": {
   "codemirror_mode": {
    "name": "ipython",
    "version": 3
   },
   "file_extension": ".py",
   "mimetype": "text/x-python",
   "name": "python",
   "nbconvert_exporter": "python",
   "pygments_lexer": "ipython3",
   "version": "3.8.10"
  }
 },
 "nbformat": 4,
 "nbformat_minor": 1
}
