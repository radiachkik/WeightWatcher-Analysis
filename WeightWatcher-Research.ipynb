{
 "cells": [
  {
   "cell_type": "code",
   "execution_count": 1,
   "metadata": {},
   "outputs": [
    {
     "data": {
      "application/javascript": [
       "IPython.notebook.set_autosave_interval(0)"
      ]
     },
     "metadata": {},
     "output_type": "display_data"
    },
    {
     "name": "stdout",
     "output_type": "stream",
     "text": [
      "Autosave disabled\n"
     ]
    }
   ],
   "source": [
    "import os\n",
    "\n",
    "os.environ['CUDA_VISIBLE_DEVICES'] = '-1'\n",
    "%autosave 0"
   ]
  },
  {
   "cell_type": "markdown",
   "metadata": {},
   "source": [
    "# WeightWatcher Research\n",
    "\n",
    "> WeightWatcher (w|w) is an open-source, diagnostic tool for analyzing Deep Neural Networks (DNN),\n",
    "> without needing access to training or even test data. It is based on theoretical research into\n",
    "> Why Deep Learning Works, based on our Theory of Heavy-Tailed Self-Regularization (HT-SR)... <sup>[1]</sup>\n",
    "\n",
    "## Objectives\n",
    "\n",
    "1. How well does the WeightWatcher metric \"alpha\" work when comparing\n",
    "    - different variants of different architecture?\n",
    "    - different variants of the same architecture?\n",
    "    - differently trained models of the same variant and architecture?\n",
    "2. What are reasonable explanations for those observations?\n",
    "\n",
    "## Background\n",
    "\n",
    "The main contribution of the WeightWatcher tool is the unique metric \"alpha\".\n",
    "It is..."
   ]
  },
  {
   "cell_type": "markdown",
   "metadata": {},
   "source": [
    "## Analysis\n",
    "\n",
    "### Internal services\n",
    "\n",
    "First off, instantiate some internal services.\n",
    "- `WeightWatcherService`: Simple wrapper for the functionality provided by the actual `weightwatcher` module\n",
    "- `WeightWatcherResultService`: Responsible for storing and loading WeightWatcher results\n",
    "- `AnalysisService`: Functionality for further analysis of the WeightWatcher results"
   ]
  },
  {
   "cell_type": "code",
   "execution_count": 2,
   "metadata": {},
   "outputs": [
    {
     "ename": "TypeError",
     "evalue": "__init__() got an unexpected keyword argument 'unbound_message'",
     "output_type": "error",
     "traceback": [
      "\u001B[0;31m---------------------------------------------------------------------------\u001B[0m",
      "\u001B[0;31mTypeError\u001B[0m                                 Traceback (most recent call last)",
      "\u001B[0;32m<ipython-input-2-726eb47d28f2>\u001B[0m in \u001B[0;36m<module>\u001B[0;34m\u001B[0m\n\u001B[1;32m      2\u001B[0m \u001B[0;34m\u001B[0m\u001B[0m\n\u001B[1;32m      3\u001B[0m \u001B[0;32mfrom\u001B[0m \u001B[0mweight_watcher\u001B[0m \u001B[0;32mimport\u001B[0m \u001B[0mWeightWatcherResultService\u001B[0m\u001B[0;34m\u001B[0m\u001B[0;34m\u001B[0m\u001B[0m\n\u001B[0;32m----> 4\u001B[0;31m \u001B[0;32mfrom\u001B[0m \u001B[0mplotting\u001B[0m \u001B[0;32mimport\u001B[0m \u001B[0mPlottingService\u001B[0m\u001B[0;34m\u001B[0m\u001B[0;34m\u001B[0m\u001B[0m\n\u001B[0m\u001B[1;32m      5\u001B[0m \u001B[0;34m\u001B[0m\u001B[0m\n\u001B[1;32m      6\u001B[0m \u001B[0mplotting_service\u001B[0m \u001B[0;34m=\u001B[0m \u001B[0mPlottingService\u001B[0m\u001B[0;34m(\u001B[0m\u001B[0;34m)\u001B[0m\u001B[0;34m\u001B[0m\u001B[0;34m\u001B[0m\u001B[0m\n",
      "\u001B[0;32m~/Projects/weightwatcher-research/plotting/__init__.py\u001B[0m in \u001B[0;36m<module>\u001B[0;34m\u001B[0m\n\u001B[0;32m----> 1\u001B[0;31m \u001B[0;32mfrom\u001B[0m \u001B[0;34m.\u001B[0m\u001B[0mPlottingService\u001B[0m \u001B[0;32mimport\u001B[0m \u001B[0mPlottingService\u001B[0m\u001B[0;34m\u001B[0m\u001B[0;34m\u001B[0m\u001B[0m\n\u001B[0m",
      "\u001B[0;32m~/Projects/weightwatcher-research/plotting/PlottingService.py\u001B[0m in \u001B[0;36m<module>\u001B[0;34m\u001B[0m\n\u001B[1;32m      4\u001B[0m \u001B[0;32mfrom\u001B[0m \u001B[0mplotly\u001B[0m\u001B[0;34m.\u001B[0m\u001B[0msubplots\u001B[0m \u001B[0;32mimport\u001B[0m \u001B[0mmake_subplots\u001B[0m\u001B[0;34m\u001B[0m\u001B[0;34m\u001B[0m\u001B[0m\n\u001B[1;32m      5\u001B[0m \u001B[0;32mimport\u001B[0m \u001B[0mplotly\u001B[0m\u001B[0;34m.\u001B[0m\u001B[0mgraph_objects\u001B[0m \u001B[0;32mas\u001B[0m \u001B[0mgo\u001B[0m\u001B[0;34m\u001B[0m\u001B[0;34m\u001B[0m\u001B[0m\n\u001B[0;32m----> 6\u001B[0;31m \u001B[0;32mfrom\u001B[0m \u001B[0mplotly_resampler\u001B[0m \u001B[0;32mimport\u001B[0m \u001B[0mFigureResampler\u001B[0m\u001B[0;34m,\u001B[0m \u001B[0mFigureWidgetResampler\u001B[0m\u001B[0;34m\u001B[0m\u001B[0;34m\u001B[0m\u001B[0m\n\u001B[0m\u001B[1;32m      7\u001B[0m \u001B[0;34m\u001B[0m\u001B[0m\n\u001B[1;32m      8\u001B[0m \u001B[0;32mfrom\u001B[0m \u001B[0mweight_watcher\u001B[0m \u001B[0;32mimport\u001B[0m \u001B[0mWeightWatcherResult\u001B[0m\u001B[0;34m,\u001B[0m \u001B[0mWeightWatcherResultService\u001B[0m\u001B[0;34m,\u001B[0m \u001B[0mWeightWatcherDetailsColumns\u001B[0m\u001B[0;34m\u001B[0m\u001B[0;34m\u001B[0m\u001B[0m\n",
      "\u001B[0;32m~/.local/lib/python3.8/site-packages/plotly_resampler/__init__.py\u001B[0m in \u001B[0;36m<module>\u001B[0;34m\u001B[0m\n\u001B[1;32m      2\u001B[0m \u001B[0;34m\u001B[0m\u001B[0m\n\u001B[1;32m      3\u001B[0m \u001B[0;32mfrom\u001B[0m \u001B[0;34m.\u001B[0m\u001B[0maggregation\u001B[0m \u001B[0;32mimport\u001B[0m \u001B[0mLTTB\u001B[0m\u001B[0;34m,\u001B[0m \u001B[0mEfficientLTTB\u001B[0m\u001B[0;34m,\u001B[0m \u001B[0mEveryNthPoint\u001B[0m\u001B[0;34m\u001B[0m\u001B[0;34m\u001B[0m\u001B[0m\n\u001B[0;32m----> 4\u001B[0;31m \u001B[0;32mfrom\u001B[0m \u001B[0;34m.\u001B[0m\u001B[0mfigure_resampler\u001B[0m \u001B[0;32mimport\u001B[0m \u001B[0mFigureResampler\u001B[0m\u001B[0;34m,\u001B[0m \u001B[0mFigureWidgetResampler\u001B[0m\u001B[0;34m\u001B[0m\u001B[0;34m\u001B[0m\u001B[0m\n\u001B[0m\u001B[1;32m      5\u001B[0m \u001B[0;32mfrom\u001B[0m \u001B[0;34m.\u001B[0m\u001B[0mregistering\u001B[0m \u001B[0;32mimport\u001B[0m \u001B[0mregister_plotly_resampler\u001B[0m\u001B[0;34m,\u001B[0m \u001B[0munregister_plotly_resampler\u001B[0m\u001B[0;34m\u001B[0m\u001B[0;34m\u001B[0m\u001B[0m\n\u001B[1;32m      6\u001B[0m \u001B[0;34m\u001B[0m\u001B[0m\n",
      "\u001B[0;32m~/.local/lib/python3.8/site-packages/plotly_resampler/figure_resampler/__init__.py\u001B[0m in \u001B[0;36m<module>\u001B[0;34m\u001B[0m\n\u001B[1;32m     11\u001B[0m \"\"\"\n\u001B[1;32m     12\u001B[0m \u001B[0;34m\u001B[0m\u001B[0m\n\u001B[0;32m---> 13\u001B[0;31m \u001B[0;32mfrom\u001B[0m \u001B[0;34m.\u001B[0m\u001B[0mfigure_resampler\u001B[0m \u001B[0;32mimport\u001B[0m \u001B[0mFigureResampler\u001B[0m\u001B[0;34m\u001B[0m\u001B[0;34m\u001B[0m\u001B[0m\n\u001B[0m\u001B[1;32m     14\u001B[0m \u001B[0;32mfrom\u001B[0m \u001B[0;34m.\u001B[0m\u001B[0mfigurewidget_resampler\u001B[0m \u001B[0;32mimport\u001B[0m \u001B[0mFigureWidgetResampler\u001B[0m\u001B[0;34m\u001B[0m\u001B[0;34m\u001B[0m\u001B[0m\n\u001B[1;32m     15\u001B[0m \u001B[0;34m\u001B[0m\u001B[0m\n",
      "\u001B[0;32m~/.local/lib/python3.8/site-packages/plotly_resampler/figure_resampler/figure_resampler.py\u001B[0m in \u001B[0;36m<module>\u001B[0;34m\u001B[0m\n\u001B[1;32m     16\u001B[0m \u001B[0;32mimport\u001B[0m \u001B[0muuid\u001B[0m\u001B[0;34m\u001B[0m\u001B[0;34m\u001B[0m\u001B[0m\n\u001B[1;32m     17\u001B[0m \u001B[0;32mimport\u001B[0m \u001B[0mbase64\u001B[0m\u001B[0;34m\u001B[0m\u001B[0;34m\u001B[0m\u001B[0m\n\u001B[0;32m---> 18\u001B[0;31m \u001B[0;32mimport\u001B[0m \u001B[0mdash\u001B[0m\u001B[0;34m\u001B[0m\u001B[0;34m\u001B[0m\u001B[0m\n\u001B[0m\u001B[1;32m     19\u001B[0m \u001B[0;32mimport\u001B[0m \u001B[0mplotly\u001B[0m\u001B[0;34m.\u001B[0m\u001B[0mgraph_objects\u001B[0m \u001B[0;32mas\u001B[0m \u001B[0mgo\u001B[0m\u001B[0;34m\u001B[0m\u001B[0;34m\u001B[0m\u001B[0m\n\u001B[1;32m     20\u001B[0m \u001B[0;32mfrom\u001B[0m \u001B[0mflask_cors\u001B[0m \u001B[0;32mimport\u001B[0m \u001B[0mcross_origin\u001B[0m\u001B[0;34m\u001B[0m\u001B[0;34m\u001B[0m\u001B[0m\n",
      "\u001B[0;32m~/.local/lib/python3.8/site-packages/dash/__init__.py\u001B[0m in \u001B[0;36m<module>\u001B[0;34m\u001B[0m\n\u001B[1;32m      3\u001B[0m \u001B[0;31m# must come before any other imports.\u001B[0m\u001B[0;34m\u001B[0m\u001B[0;34m\u001B[0m\u001B[0;34m\u001B[0m\u001B[0m\n\u001B[1;32m      4\u001B[0m \u001B[0m__plotly_dash\u001B[0m \u001B[0;34m=\u001B[0m \u001B[0;32mTrue\u001B[0m\u001B[0;34m\u001B[0m\u001B[0;34m\u001B[0m\u001B[0m\n\u001B[0;32m----> 5\u001B[0;31m from .dependencies import (  # noqa: F401,E402\n\u001B[0m\u001B[1;32m      6\u001B[0m     \u001B[0mInput\u001B[0m\u001B[0;34m,\u001B[0m  \u001B[0;31m# noqa: F401,E402\u001B[0m\u001B[0;34m\u001B[0m\u001B[0;34m\u001B[0m\u001B[0m\n\u001B[1;32m      7\u001B[0m     \u001B[0mOutput\u001B[0m\u001B[0;34m,\u001B[0m  \u001B[0;31m# noqa: F401,E402\u001B[0m\u001B[0;34m\u001B[0m\u001B[0;34m\u001B[0m\u001B[0m\n",
      "\u001B[0;32m~/.local/lib/python3.8/site-packages/dash/dependencies.py\u001B[0m in \u001B[0;36m<module>\u001B[0;34m\u001B[0m\n\u001B[1;32m      2\u001B[0m \u001B[0;32mfrom\u001B[0m \u001B[0mdash\u001B[0m\u001B[0;34m.\u001B[0m\u001B[0mdevelopment\u001B[0m\u001B[0;34m.\u001B[0m\u001B[0mbase_component\u001B[0m \u001B[0;32mimport\u001B[0m \u001B[0mComponent\u001B[0m\u001B[0;34m\u001B[0m\u001B[0;34m\u001B[0m\u001B[0m\n\u001B[1;32m      3\u001B[0m \u001B[0;34m\u001B[0m\u001B[0m\n\u001B[0;32m----> 4\u001B[0;31m \u001B[0;32mfrom\u001B[0m \u001B[0;34m.\u001B[0m\u001B[0m_validate\u001B[0m \u001B[0;32mimport\u001B[0m \u001B[0mvalidate_callback\u001B[0m\u001B[0;34m\u001B[0m\u001B[0;34m\u001B[0m\u001B[0m\n\u001B[0m\u001B[1;32m      5\u001B[0m \u001B[0;32mfrom\u001B[0m \u001B[0;34m.\u001B[0m\u001B[0m_grouping\u001B[0m \u001B[0;32mimport\u001B[0m \u001B[0mflatten_grouping\u001B[0m\u001B[0;34m,\u001B[0m \u001B[0mmake_grouping_by_index\u001B[0m\u001B[0;34m\u001B[0m\u001B[0;34m\u001B[0m\u001B[0m\n\u001B[1;32m      6\u001B[0m \u001B[0;34m\u001B[0m\u001B[0m\n",
      "\u001B[0;32m~/.local/lib/python3.8/site-packages/dash/_validate.py\u001B[0m in \u001B[0;36m<module>\u001B[0;34m\u001B[0m\n\u001B[1;32m      3\u001B[0m \u001B[0;32mfrom\u001B[0m \u001B[0mtextwrap\u001B[0m \u001B[0;32mimport\u001B[0m \u001B[0mdedent\u001B[0m\u001B[0;34m\u001B[0m\u001B[0;34m\u001B[0m\u001B[0m\n\u001B[1;32m      4\u001B[0m \u001B[0;32mfrom\u001B[0m \u001B[0mkeyword\u001B[0m \u001B[0;32mimport\u001B[0m \u001B[0miskeyword\u001B[0m\u001B[0;34m\u001B[0m\u001B[0;34m\u001B[0m\u001B[0m\n\u001B[0;32m----> 5\u001B[0;31m \u001B[0;32mimport\u001B[0m \u001B[0mflask\u001B[0m\u001B[0;34m\u001B[0m\u001B[0;34m\u001B[0m\u001B[0m\n\u001B[0m\u001B[1;32m      6\u001B[0m \u001B[0;34m\u001B[0m\u001B[0m\n\u001B[1;32m      7\u001B[0m \u001B[0;32mfrom\u001B[0m \u001B[0;34m.\u001B[0m\u001B[0m_grouping\u001B[0m \u001B[0;32mimport\u001B[0m \u001B[0mgrouping_len\u001B[0m\u001B[0;34m,\u001B[0m \u001B[0mmap_grouping\u001B[0m\u001B[0;34m\u001B[0m\u001B[0;34m\u001B[0m\u001B[0m\n",
      "\u001B[0;32m~/.local/lib/python3.8/site-packages/flask/__init__.py\u001B[0m in \u001B[0;36m<module>\u001B[0;34m\u001B[0m\n\u001B[1;32m      2\u001B[0m \u001B[0;32mfrom\u001B[0m \u001B[0mmarkupsafe\u001B[0m \u001B[0;32mimport\u001B[0m \u001B[0mMarkup\u001B[0m\u001B[0;34m\u001B[0m\u001B[0;34m\u001B[0m\u001B[0m\n\u001B[1;32m      3\u001B[0m \u001B[0;34m\u001B[0m\u001B[0m\n\u001B[0;32m----> 4\u001B[0;31m \u001B[0;32mfrom\u001B[0m \u001B[0;34m.\u001B[0m \u001B[0;32mimport\u001B[0m \u001B[0mjson\u001B[0m \u001B[0;32mas\u001B[0m \u001B[0mjson\u001B[0m\u001B[0;34m\u001B[0m\u001B[0;34m\u001B[0m\u001B[0m\n\u001B[0m\u001B[1;32m      5\u001B[0m \u001B[0;32mfrom\u001B[0m \u001B[0;34m.\u001B[0m\u001B[0mapp\u001B[0m \u001B[0;32mimport\u001B[0m \u001B[0mFlask\u001B[0m \u001B[0;32mas\u001B[0m \u001B[0mFlask\u001B[0m\u001B[0;34m\u001B[0m\u001B[0;34m\u001B[0m\u001B[0m\n\u001B[1;32m      6\u001B[0m \u001B[0;32mfrom\u001B[0m \u001B[0;34m.\u001B[0m\u001B[0mapp\u001B[0m \u001B[0;32mimport\u001B[0m \u001B[0mRequest\u001B[0m \u001B[0;32mas\u001B[0m \u001B[0mRequest\u001B[0m\u001B[0;34m\u001B[0m\u001B[0;34m\u001B[0m\u001B[0m\n",
      "\u001B[0;32m~/.local/lib/python3.8/site-packages/flask/json/__init__.py\u001B[0m in \u001B[0;36m<module>\u001B[0;34m\u001B[0m\n\u001B[1;32m      6\u001B[0m \u001B[0;32mfrom\u001B[0m \u001B[0mjinja2\u001B[0m\u001B[0;34m.\u001B[0m\u001B[0mutils\u001B[0m \u001B[0;32mimport\u001B[0m \u001B[0mhtmlsafe_json_dumps\u001B[0m \u001B[0;32mas\u001B[0m \u001B[0m_jinja_htmlsafe_dumps\u001B[0m\u001B[0;34m\u001B[0m\u001B[0;34m\u001B[0m\u001B[0m\n\u001B[1;32m      7\u001B[0m \u001B[0;34m\u001B[0m\u001B[0m\n\u001B[0;32m----> 8\u001B[0;31m \u001B[0;32mfrom\u001B[0m \u001B[0;34m.\u001B[0m\u001B[0;34m.\u001B[0m\u001B[0mglobals\u001B[0m \u001B[0;32mimport\u001B[0m \u001B[0mcurrent_app\u001B[0m\u001B[0;34m\u001B[0m\u001B[0;34m\u001B[0m\u001B[0m\n\u001B[0m\u001B[1;32m      9\u001B[0m \u001B[0;32mfrom\u001B[0m \u001B[0;34m.\u001B[0m\u001B[0mprovider\u001B[0m \u001B[0;32mimport\u001B[0m \u001B[0m_default\u001B[0m\u001B[0;34m\u001B[0m\u001B[0;34m\u001B[0m\u001B[0m\n\u001B[1;32m     10\u001B[0m \u001B[0;34m\u001B[0m\u001B[0m\n",
      "\u001B[0;32m~/.local/lib/python3.8/site-packages/flask/globals.py\u001B[0m in \u001B[0;36m<module>\u001B[0;34m\u001B[0m\n\u001B[1;32m     54\u001B[0m \u001B[0m_cv_app\u001B[0m\u001B[0;34m:\u001B[0m \u001B[0mContextVar\u001B[0m\u001B[0;34m[\u001B[0m\u001B[0;34m\"AppContext\"\u001B[0m\u001B[0;34m]\u001B[0m \u001B[0;34m=\u001B[0m \u001B[0mContextVar\u001B[0m\u001B[0;34m(\u001B[0m\u001B[0;34m\"flask.app_ctx\"\u001B[0m\u001B[0;34m)\u001B[0m\u001B[0;34m\u001B[0m\u001B[0;34m\u001B[0m\u001B[0m\n\u001B[1;32m     55\u001B[0m \u001B[0m__app_ctx_stack\u001B[0m \u001B[0;34m=\u001B[0m \u001B[0m_FakeStack\u001B[0m\u001B[0;34m(\u001B[0m\u001B[0;34m\"app\"\u001B[0m\u001B[0;34m,\u001B[0m \u001B[0m_cv_app\u001B[0m\u001B[0;34m)\u001B[0m\u001B[0;34m\u001B[0m\u001B[0;34m\u001B[0m\u001B[0m\n\u001B[0;32m---> 56\u001B[0;31m app_ctx: \"AppContext\" = LocalProxy(  # type: ignore[assignment]\n\u001B[0m\u001B[1;32m     57\u001B[0m     \u001B[0m_cv_app\u001B[0m\u001B[0;34m,\u001B[0m \u001B[0munbound_message\u001B[0m\u001B[0;34m=\u001B[0m\u001B[0m_no_app_msg\u001B[0m\u001B[0;34m\u001B[0m\u001B[0;34m\u001B[0m\u001B[0m\n\u001B[1;32m     58\u001B[0m )\n",
      "\u001B[0;31mTypeError\u001B[0m: __init__() got an unexpected keyword argument 'unbound_message'"
     ]
    }
   ],
   "source": [
    "# Instantiate necessary services\n",
    "\n",
    "from weight_watcher import WeightWatcherResultService\n",
    "from visualization import PlottingService, DashboardService\n",
    "\n",
    "plotting_service = PlottingService()\n",
    "dashboard_service = DashboardService()\n",
    "analysis_result_repository = WeightWatcherResultService('results')"
   ]
  },
  {
   "cell_type": "code",
   "execution_count": null,
   "metadata": {},
   "outputs": [],
   "source": [
    "# Create plots\n",
    "\n",
    "from typing import List\n",
    "import plotly.graph_objects as go\n",
    "\n",
    "results = analysis_result_repository.load_all()\n",
    "\n",
    "plots: List[go.Figure] = []\n",
    "plots += [plotting_service.create_summaries_plot(results)]\n",
    "plots += plotting_service.create_summaries_per_architecture_plot(results)\n",
    "plots += [plotting_service.create_details_plots(results)]\n",
    "plots += plotting_service.create_details_per_architecture(results)\n",
    "plots += plotting_service.create_details_per_model(results)\n",
    "\n",
    "dashboard_service.build_dashboard(plots)\n",
    "dashboard_service.show_dashboard()"
   ]
  },
  {
   "cell_type": "markdown",
   "metadata": {},
   "source": [
    "## References\n",
    "\n",
    "[1]: <cite>[WeightWatcher Homepage](https://weightwatcher.ai/#Research)</cite>\n",
    "[2]: <cite>[WeightWatcher Homepage](https://weightwatcher.ai/#Research)</cite>"
   ]
  }
 ],
 "metadata": {
  "kernelspec": {
   "display_name": "Python 3 (ipykernel)",
   "language": "python",
   "name": "python3"
  },
  "language_info": {
   "codemirror_mode": {
    "name": "ipython",
    "version": 3
   },
   "file_extension": ".py",
   "mimetype": "text/x-python",
   "name": "python",
   "nbconvert_exporter": "python",
   "pygments_lexer": "ipython3",
   "version": "3.8.10"
  }
 },
 "nbformat": 4,
 "nbformat_minor": 1
}
