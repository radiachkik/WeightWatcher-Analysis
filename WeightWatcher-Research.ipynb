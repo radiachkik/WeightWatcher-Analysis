{
 "cells": [
  {
   "cell_type": "code",
   "execution_count": 13,
   "metadata": {},
   "outputs": [],
   "source": [
    "from weight_watcher import WeightWatcherService, WeightWatcherResultService\n",
    "from analysis import AnalysisService"
   ]
  },
  {
   "cell_type": "code",
   "execution_count": 14,
   "metadata": {},
   "outputs": [],
   "source": [
    "weight_watcher_service = WeightWatcherService()\n",
    "analysis_result_repository = WeightWatcherResultService('results')\n",
    "analysis_service = AnalysisService()"
   ]
  },
  {
   "cell_type": "code",
   "execution_count": 15,
   "metadata": {},
   "outputs": [],
   "source": [
    "results = analysis_result_repository.load_all()"
   ]
  },
  {
   "cell_type": "code",
   "execution_count": 16,
   "metadata": {},
   "outputs": [],
   "source": [
    "from dataclasses import asdict\n",
    "from typing import List, Dict, Any\n",
    "from weight_watcher import WeightWatcherResult\n",
    "\n",
    "\n",
    "def extract_summary_metrics(ww_results: List[WeightWatcherResult]) -> Dict[str, Any]:\n",
    "    metrics = dict()\n",
    "    for ww_result in ww_results:\n",
    "        result_dict = asdict(ww_result.summary)\n",
    "        for key in result_dict:\n",
    "            if key not in metrics:\n",
    "                metrics[key] = []\n",
    "            metrics[key].append(result_dict[key])\n",
    "    return metrics"
   ]
  },
  {
   "cell_type": "code",
   "execution_count": 17,
   "metadata": {},
   "outputs": [],
   "source": [
    "def extract_data_from_results(ww_results):\n",
    "    metrics = extract_summary_metrics(ww_results)\n",
    "    accuracies = [ww_result.model_accuracy for ww_result in ww_results]\n",
    "    identifications = [ww_result.model_identification for ww_result in ww_results]\n",
    "    names = [f\"{identification.architecture.name}/{identification.variant.name}\" for identification in\n",
    "             identifications]\n",
    "    return metrics, accuracies, names"
   ]
  },
  {
   "cell_type": "code",
   "execution_count": 18,
   "metadata": {},
   "outputs": [],
   "source": [
    "from plotly.subplots import make_subplots\n",
    "import plotly.graph_objects as go\n",
    "\n",
    "def add_plots(metrics, accuracies, names, figure_title):\n",
    "    fig = make_subplots(rows=6, cols=1)\n",
    "    for index, key in enumerate(metrics):\n",
    "        row = (index % 6) + 1\n",
    "        col = (index % 1) + 1\n",
    "        fig.add_trace(go.Scatter(\n",
    "            x=metrics[key],\n",
    "            y=accuracies,\n",
    "            text=names,\n",
    "            mode=\"markers+text\",\n",
    "            marker=dict(\n",
    "                size=10\n",
    "            ),\n",
    "        ), row=row, col=col)\n",
    "        fig.update_xaxes(title_text=key, row=row, col=col)\n",
    "    fig.update_yaxes(title_text=\"accuracy\")\n",
    "    fig.update_layout(title_text=figure_title, height=4000)\n",
    "    fig.update_traces(textposition='top center')\n",
    "    fig.show()"
   ]
  },
  {
   "cell_type": "code",
   "execution_count": null,
   "metadata": {
    "pycharm": {
     "is_executing": true
    }
   },
   "outputs": [
    {
     "name": "stdout",
     "output_type": "stream",
     "text": [
      "foo\n"
     ]
    }
   ],
   "source": [
    "add_plots(*extract_data_from_results(results), \"Correlation with accuracy [All models]\")\n",
    "architectures = {}\n",
    "for result in results:\n",
    "    architecture_name = result.model_identification.architecture.name\n",
    "    if architecture_name not in architectures:\n",
    "        architectures[architecture_name] = []\n",
    "    architectures[architecture_name].append(result)\n",
    "\n",
    "for architecture_name, architecture_results in architectures.items():\n",
    "    add_plots(*extract_data_from_results(results), f\"Correlation with accuracy [{architecture_name}]\")"
   ]
  }
 ],
 "metadata": {
  "kernelspec": {
   "display_name": "Python 3",
   "language": "python",
   "name": "python3"
  },
  "language_info": {
   "codemirror_mode": {
    "name": "ipython",
    "version": 3
   },
   "file_extension": ".py",
   "mimetype": "text/x-python",
   "name": "python",
   "nbconvert_exporter": "python",
   "pygments_lexer": "ipython3",
   "version": "3.8.10"
  }
 },
 "nbformat": 4,
 "nbformat_minor": 1
}
