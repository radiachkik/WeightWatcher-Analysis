{
 "cells": [
  {
   "cell_type": "code",
   "execution_count": 11,
   "metadata": {},
   "outputs": [],
   "source": [
    "import chart_studio.plotly as py\n",
    "import plotly.graph_objects as go"
   ]
  },
  {
   "cell_type": "code",
   "execution_count": 12,
   "metadata": {},
   "outputs": [],
   "source": [
    "import os"
   ]
  },
  {
   "cell_type": "code",
   "execution_count": 13,
   "metadata": {},
   "outputs": [],
   "source": [
    "from weight_watcher import WeightWatcherService, WeightWatcherResultService\n",
    "from analysis import AnalysisService"
   ]
  },
  {
   "cell_type": "code",
   "execution_count": 14,
   "metadata": {},
   "outputs": [],
   "source": [
    "weight_watcher_service = WeightWatcherService()\n",
    "analysis_result_repository = WeightWatcherResultService('results')\n",
    "analysis_service = AnalysisService()"
   ]
  },
  {
   "cell_type": "code",
   "execution_count": 15,
   "metadata": {},
   "outputs": [],
   "source": [
    "results = analysis_result_repository.load_all()"
   ]
  },
  {
   "cell_type": "code",
   "execution_count": 16,
   "metadata": {},
   "outputs": [],
   "source": [
    "from dataclasses import asdict\n",
    "from typing import List, Dict, Any\n",
    "from weight_watcher import WeightWatcherResult\n",
    "\n",
    "\n",
    "def extract_summary_metrics(ww_results: List[WeightWatcherResult]) -> Dict[str, Any]:\n",
    "    metrics = dict()\n",
    "    for ww_result in ww_results:\n",
    "        result_dict = asdict(ww_result.summary)\n",
    "        for key in result_dict:\n",
    "            if key not in metrics:\n",
    "                metrics[key] = []\n",
    "            metrics[key].append(result_dict[key])\n",
    "    return metrics"
   ]
  },
  {
   "cell_type": "code",
   "execution_count": 17,
   "metadata": {},
   "outputs": [],
   "source": [
    "def extract_data_from_results(results):\n",
    "    metrics = extract_summary_metrics(results)\n",
    "    accuracies = [result.model_accuracy for result in results]\n",
    "    identifications = [result.model_identification for result in results]\n",
    "    names = [f\"{identification.architecture.name}/{identification.variant.name}\" for identification in\n",
    "             identifications]\n",
    "    return metrics, accuracies, names"
   ]
  },
  {
   "cell_type": "code",
   "execution_count": 18,
   "metadata": {},
   "outputs": [],
   "source": [
    "from plotly.subplots import make_subplots\n",
    "\n",
    "def add_plots(data, metrics, accuracies, names, figure_title):\n",
    "    for metric in metrics:\n",
    "        scatter_plot = go.Scatter(\n",
    "            x=metrics[metric],\n",
    "            y=accuracies,\n",
    "            text=names,\n",
    "            mode=\"markers+text\",\n",
    "            marker=dict(\n",
    "                size=10\n",
    "            )\n",
    "        )\n",
    "        scatter_plot.update(textposition='top center')\n",
    "        data.append(scatter_plot)"
   ]
  },
  {
   "cell_type": "code",
   "execution_count": null,
   "metadata": {
    "pycharm": {
     "is_executing": true
    }
   },
   "outputs": [
    {
     "name": "stdout",
     "output_type": "stream",
     "text": [
      "foo\n"
     ]
    }
   ],
   "source": [
    "data = []\n",
    "add_plots(data, *extract_data_from_results(results), \"Correlation with accuracy\")\n",
    "architectures = {}\n",
    "for result in results:\n",
    "    architecture_name = result.model_identification.architecture.name\n",
    "    if architecture_name not in architectures:\n",
    "        architectures[architecture_name] = []\n",
    "    architectures[architecture_name].append(result)\n",
    "\n",
    "for architecture_name, architecture_results in architectures.items():\n",
    "    add_plots(data, *extract_data_from_results(results), f\"Correlation with accuracy [{architecture_name}]\")\n",
    "\n",
    "layout = go.Layout(title=\"Average Earnings for Graduates\",\n",
    "                xaxis=dict(title='School'),\n",
    "                yaxis=dict(title='Salary (in thousands)'))\n",
    "\n",
    "fig = go.Figure(data=data, layout=layout)\n",
    "\n",
    "print(\"foo\")\n",
    "\n",
    "py.iplot(fig, sharing='private', filename='jupyter-styled_bar')\n"
   ]
  },
  {
   "cell_type": "code",
   "execution_count": null,
   "metadata": {
    "pycharm": {
     "is_executing": true
    }
   },
   "outputs": [],
   "source": [
    "print(\"foo\")"
   ]
  },
  {
   "cell_type": "code",
   "execution_count": null,
   "metadata": {},
   "outputs": [],
   "source": []
  }
 ],
 "metadata": {
  "kernelspec": {
   "display_name": "Python 3",
   "language": "python",
   "name": "python3"
  },
  "language_info": {
   "codemirror_mode": {
    "name": "ipython",
    "version": 3
   },
   "file_extension": ".py",
   "mimetype": "text/x-python",
   "name": "python",
   "nbconvert_exporter": "python",
   "pygments_lexer": "ipython3",
   "version": "3.8.10"
  }
 },
 "nbformat": 4,
 "nbformat_minor": 1
}
